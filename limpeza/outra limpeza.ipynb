{
 "cells": [
  {
   "cell_type": "markdown",
   "metadata": {},
   "source": [
    "dar nomes decentes ao raw \n",
    "\n",
    "\n",
    "modelo: \"amigavel (\" + indice de 1 a 154 +\")\""
   ]
  },
  {
   "cell_type": "markdown",
   "metadata": {},
   "source": [
    "GOAL: lista de títulos em ordem alfabética, cada linha é uma id\n",
    "\n",
    "lista de palavras, com lista de ids associadas\n",
    "\n",
    "arquivos com os conteúdos, separados 10k a 10k de acordo com o título, cada linha é um artigo"
   ]
  },
  {
   "cell_type": "markdown",
   "metadata": {},
   "source": [
    "1. Criar duas listas: [id (criada), titulo] e [id, conteúdo]\n",
    "2. ~Fazer um documento só com os conteúdos, 1 por linha, respeitando os ids\n",
    "3. normalizar caracteres no conteúdo e eliminar repetições\n",
    "\n",
    "4. ordenar títulos, levando ids junto \n",
    "5. associar cada palavra a uma lista de ids"
   ]
  },
  {
   "cell_type": "code",
   "execution_count": null,
   "metadata": {},
   "outputs": [],
   "source": []
  },
  {
   "cell_type": "markdown",
   "metadata": {},
   "source": [
    "k = número de artigos até então"
   ]
  },
  {
   "cell_type": "code",
   "execution_count": 14,
   "metadata": {},
   "outputs": [
    {
     "ename": "FileNotFoundError",
     "evalue": "[Errno 2] No such file or directory: 'amigavel (1)'",
     "output_type": "error",
     "traceback": [
      "\u001b[1;31m---------------------------------------------------------------------------\u001b[0m",
      "\u001b[1;31mFileNotFoundError\u001b[0m                         Traceback (most recent call last)",
      "\u001b[1;32m<ipython-input-14-ca43d5af1fdb>\u001b[0m in \u001b[0;36m<module>\u001b[1;34m\u001b[0m\n\u001b[0;32m      3\u001b[0m \u001b[1;33m\u001b[0m\u001b[0m\n\u001b[0;32m      4\u001b[0m \u001b[0mnome\u001b[0m \u001b[1;33m=\u001b[0m \u001b[1;34m\"amigavel (\"\u001b[0m \u001b[1;33m+\u001b[0m \u001b[0mstr\u001b[0m\u001b[1;33m(\u001b[0m\u001b[0mi\u001b[0m\u001b[1;33m)\u001b[0m \u001b[1;33m+\u001b[0m \u001b[1;34m\")\"\u001b[0m\u001b[1;33m\u001b[0m\u001b[1;33m\u001b[0m\u001b[0m\n\u001b[1;32m----> 5\u001b[1;33m \u001b[0marquivo\u001b[0m \u001b[1;33m=\u001b[0m \u001b[0mopen\u001b[0m\u001b[1;33m(\u001b[0m\u001b[0mnome\u001b[0m\u001b[1;33m,\u001b[0m\u001b[1;34m\"r\"\u001b[0m\u001b[1;33m)\u001b[0m\u001b[1;33m\u001b[0m\u001b[1;33m\u001b[0m\u001b[0m\n\u001b[0m\u001b[0;32m      6\u001b[0m \u001b[0mintegro\u001b[0m \u001b[1;33m=\u001b[0m \u001b[0marquivo\u001b[0m\u001b[1;33m.\u001b[0m\u001b[0mread\u001b[0m\u001b[1;33m(\u001b[0m\u001b[1;33m)\u001b[0m\u001b[1;33m\u001b[0m\u001b[1;33m\u001b[0m\u001b[0m\n\u001b[0;32m      7\u001b[0m \u001b[0marquivo\u001b[0m\u001b[1;33m.\u001b[0m\u001b[0mclose\u001b[0m\u001b[1;33m(\u001b[0m\u001b[1;33m)\u001b[0m\u001b[1;33m\u001b[0m\u001b[1;33m\u001b[0m\u001b[0m\n",
      "\u001b[1;31mFileNotFoundError\u001b[0m: [Errno 2] No such file or directory: 'amigavel (1)'"
     ]
    }
   ],
   "source": [
    "i = 1\n",
    "k = 0\n",
    "\n",
    "nome = \"amigavel (\" + str(i) + \")\"\n",
    "arquivo = open(nome,\"r\")\n",
    "integro = arquivo.read()\n",
    "arquivo.close()\n",
    "\n"
   ]
  },
  {
   "cell_type": "code",
   "execution_count": 11,
   "metadata": {},
   "outputs": [],
   "source": [
    "integro.replace(\"ENDOFARTICLE\", \" \")\n",
    "\n",
    "textos =  integro.split(\"</doc>\")\n",
    "\n",
    "tam = len(textos)"
   ]
  },
  {
   "cell_type": "code",
   "execution_count": null,
   "metadata": {},
   "outputs": [],
   "source": [
    "def achatitulo(poema):\n",
    "    inicio = poema.find('title') + 7\n",
    "    fim = poema[inicio:].find('\"') + inicio\n",
    "    return poema[inicio:fim]"
   ]
  },
  {
   "cell_type": "code",
   "execution_count": null,
   "metadata": {},
   "outputs": [],
   "source": [
    "def achaconteudo(poema):\n",
    "    inicio = poema.find('>') + 1\n",
    "    resultado = poema[inicio:]\n",
    "    resultado.replace(\"\\n\", \" \")\n",
    "    return resultado"
   ]
  },
  {
   "cell_type": "markdown",
   "metadata": {},
   "source": [
    "PASSO 1"
   ]
  },
  {
   "cell_type": "code",
   "execution_count": null,
   "metadata": {},
   "outputs": [],
   "source": [
    "titulos = []\n",
    "conteudos = []\n",
    "for j in range(tam):\n",
    "    ident = j + k\n",
    "    titulo = achatitulo(textos[j])\n",
    "    conteudo = achaconteudo(textos[j])\n",
    "    titulos.append([ident, titulos])\n",
    "    conteudos.append([ident, conteudo])\n",
    "    "
   ]
  },
  {
   "cell_type": "code",
   "execution_count": 28,
   "metadata": {},
   "outputs": [],
   "source": [
    "def merge_sort(A):\n",
    "    if len(A)<=1:\n",
    "        return A\n",
    "    left = A[:int(len(A)/2)]\n",
    "    right = A[int(len(A)/2):]\n",
    "    return merge(merge_sort(left),merge_sort(right))\n",
    "\n",
    "def merge(C, B):\n",
    "    result = []\n",
    "    while len(C)>0 and len(B)>0:\n",
    "        if C[0]<B[0]:\n",
    "            result.append(C[0])\n",
    "            C.pop(0)\n",
    "        else:\n",
    "            result.append(B[0])\n",
    "            B.pop(0)\n",
    "    result += C+B\n",
    "    return result\n"
   ]
  },
  {
   "cell_type": "code",
   "execution_count": null,
   "metadata": {},
   "outputs": [],
   "source": [
    "Passo2 = open(\"conteudos_teste (\" + str(i) +   \")\", \"a\")\n",
    "for j  in range(tam):\n",
    "    escrever = conteudos[j][1] + \"\\n\"\n",
    "    Passo2.write(escrever)\n",
    "    \n",
    "Passo2.close()"
   ]
  },
  {
   "cell_type": "markdown",
   "metadata": {},
   "source": [
    "PASSO 3"
   ]
  },
  {
   "cell_type": "code",
   "execution_count": null,
   "metadata": {},
   "outputs": [],
   "source": [
    "import unicodedata\n",
    "\n",
    "def remove_accents(input_str):\n",
    "    nfkd_form = unicodedata.normalize('NFKD', input_str)\n",
    "    return u\"\".join([c for c in nfkd_form if not unicodedata.combining(c)])"
   ]
  },
  {
   "cell_type": "code",
   "execution_count": null,
   "metadata": {},
   "outputs": [],
   "source": [
    "def unique(conjunto):\n",
    "    listaruim = conjunto.split(\" \")\n",
    "    listaboa = []\n",
    "    resultado = \"\"\n",
    "    for i in listaruim:\n",
    "        if i not in listaboa:\n",
    "            listaboa.append(i)\n",
    "    for i in listaboa:\n",
    "        resultado += i + \" \"\n",
    "    "
   ]
  },
  {
   "cell_type": "code",
   "execution_count": null,
   "metadata": {},
   "outputs": [],
   "source": [
    "for j in range(tam):\n",
    "    palavras = conteudos[j][1]\n",
    "    palavras = palavras.lower()\n",
    "    palavras = remove_accents(palavras)\n",
    "    alfabeto =[\" \",\"a\",\"b\",\"c\",\"d\",\"e\",\"f\",\"g\",\"h\",\"i\",\"j\",\"k\",\"l\",\"m\",\"n\",\"o\",\"p\",\"q\",\"r\",\"s\",\"t\",\"u\",\"v\",\"w\",\"x\",\"y\",\"z\",\"0\",\"1\",\"2\",\"3\",\"4\",\"5\",\"6\",\"7\",\"8\",\"9\"]\n",
    "    for letra in palavras:\n",
    "        if i not in alfabeto:\n",
    "            palavras.replace(i,\" \")\n",
    "    palavras = unique(palavras)\n",
    "            "
   ]
  },
  {
   "cell_type": "code",
   "execution_count": null,
   "metadata": {
    "collapsed": true
   },
   "outputs": [],
   "source": []
  },
  {
   "cell_type": "code",
   "execution_count": null,
   "metadata": {},
   "outputs": [],
   "source": []
  },
  {
   "cell_type": "code",
   "execution_count": 27,
   "metadata": {},
   "outputs": [],
   "source": [
    "alfabeto =[\"a\",\"b\",\"c\",\"d\",\"e\",\"f\",\"g\",\"h\",\"i\",\"j\",\"k\",\"l\",\"m\",\"n\",\"o\",\"p\",\"q\",\"r\",\"s\",\"t\",\"u\",\"v\",\"w\",\"x\",\"y\",\"z\",\"0\",\"1\",\"2\",\"3\",\"4\",\"5\",\"6\",\"7\",\"8\",\"9\"]"
   ]
  },
  {
   "cell_type": "code",
   "execution_count": null,
   "metadata": {},
   "outputs": [],
   "source": []
  }
 ],
 "metadata": {
  "kernelspec": {
   "display_name": "Python 3",
   "language": "python",
   "name": "python3"
  },
  "language_info": {
   "codemirror_mode": {
    "name": "ipython",
    "version": 3
   },
   "file_extension": ".py",
   "mimetype": "text/x-python",
   "name": "python",
   "nbconvert_exporter": "python",
   "pygments_lexer": "ipython3",
   "version": "3.7.3"
  }
 },
 "nbformat": 4,
 "nbformat_minor": 2
}
