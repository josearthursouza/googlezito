{
 "cells": [
  {
   "cell_type": "code",
   "execution_count": 1,
   "metadata": {},
   "outputs": [],
   "source": [
    "arquivo = open('amigavel.txt','r')\n",
    "textao = arquivo.read()\n",
    "arquivo.close()"
   ]
  },
  {
   "cell_type": "code",
   "execution_count": 2,
   "metadata": {},
   "outputs": [],
   "source": [
    "def achatitulo(poema):\n",
    "    inicio = poema.find('title') + 7\n",
    "    fim = poema[inicio:].find('\"') + inicio\n",
    "    return poema[inicio:fim]"
   ]
  },
  {
   "cell_type": "code",
   "execution_count": 3,
   "metadata": {},
   "outputs": [],
   "source": [
    "def achaid(poema):\n",
    "    inicio = poema.find('id=') + 4\n",
    "    fim = poema[inicio:].find('\"') + inicio\n",
    "    return poema[inicio:fim]"
   ]
  },
  {
   "cell_type": "code",
   "execution_count": 4,
   "metadata": {},
   "outputs": [],
   "source": [
    "texto = textao.replace('\\n',' ')"
   ]
  },
  {
   "cell_type": "code",
   "execution_count": 5,
   "metadata": {},
   "outputs": [
    {
     "data": {
      "text/plain": [
       "'<doc id=\"214730\" title=\"Henry Hallam\" nonfiltered=\"1\" processed=\"1\" dbindex=\"0\"> Henry Hallam (July 9, 1777 - January 21, 1859) was an  English historian.  The only son of John Hallam, canon of Windsor and dean of Bristol, he was educated at Eton and Christ Church, Oxford, graduating in 1799. Called to the bar, he practised for some years on the Oxford circuit; but his tastes were literary, and when, on his father\\'s death in 1812, he inherited a small estate in Lincolnshire, he gave himself up wholly to academic study. He had become connected with the brilliant band of authors and politicians who led the Whig party, a connection to which he owed his appointment to the well-paid and easy post of commissioner of stamps; but took no part in politics himself.  He was, however, an active supporter of many popular movements--particularly of that which ended in the abolition of the slave trade; and he was sincerely attached to the political principles of the Whigs.   Hallam\\'s earliest literar'"
      ]
     },
     "execution_count": 5,
     "metadata": {},
     "output_type": "execute_result"
    }
   ],
   "source": [
    "texto[:1000]"
   ]
  },
  {
   "cell_type": "markdown",
   "metadata": {},
   "source": [
    "quero uma string assim:\n",
    "[[id, titulo, [palavras]],[ ]...]"
   ]
  },
  {
   "cell_type": "code",
   "execution_count": 6,
   "metadata": {},
   "outputs": [],
   "source": [
    "organizado = []\n",
    "textinhos = texto.split(\"ENDOFARTICLE\")\n",
    "for i in range(len(textinhos)):\n",
    "    a = []\n",
    "    codigo = achaid(textinhos[i])\n",
    "    titulo = achatitulo(textinhos[i])\n",
    "    a += [codigo] + [titulo]\n",
    "    organizado.append(a)\n",
    "    "
   ]
  },
  {
   "cell_type": "code",
   "execution_count": 7,
   "metadata": {},
   "outputs": [],
   "source": [
    "textomin = texto.lower()"
   ]
  },
  {
   "cell_type": "code",
   "execution_count": 8,
   "metadata": {},
   "outputs": [],
   "source": [
    "caracteres = \"ab\"\n",
    "for i in textomin:\n",
    "    if caracteres.find(i) == -1:\n",
    "        caracteres += i"
   ]
  },
  {
   "cell_type": "code",
   "execution_count": 9,
   "metadata": {},
   "outputs": [
    {
     "data": {
      "text/plain": [
       "'ab<doc i=\"214730tlehnrymfpsx>(ju9,-85)wg.;\\'vk6zq:/é²+$öê£%_óõá?#!ñí&çè~üâ°à«»î|}½*úä\\t¦©®]ù³@ßòôøæ`ëåþ×ã§´¸¨¼\\\\ïð¡ÿ[ºû\\xad±¢ýì¤µ\\xa0·^¬¿÷¹¶{¥¯'"
      ]
     },
     "execution_count": 9,
     "metadata": {},
     "output_type": "execute_result"
    }
   ],
   "source": [
    "caracteres"
   ]
  },
  {
   "cell_type": "code",
   "execution_count": 10,
   "metadata": {},
   "outputs": [],
   "source": [
    "indesejaveis ='=214730(9,-85).;\\'6:/²+$£%_?#!&~°«»|}½*\\¦©®]³@ßøæ`þ×§´¸¨¼\\\\ð¡[º\\±¢¤µ\\0·^¬¿÷¹¶{¥¯'"
   ]
  },
  {
   "cell_type": "code",
   "execution_count": 11,
   "metadata": {},
   "outputs": [],
   "source": [
    "especiais = [['u','üúùû'],['e','éêèë'],['o','öóõòô'],['a','áâàäåã'],['n','ñ'],['i','íîïì'],['c','ç'],['y','ÿý']]"
   ]
  },
  {
   "cell_type": "code",
   "execution_count": 13,
   "metadata": {},
   "outputs": [],
   "source": [
    "for i in indesejaveis:\n",
    "    textomin = textomin.replace(i,' ')\n",
    "textomin = textomin.replace('\"',' ')"
   ]
  },
  {
   "cell_type": "code",
   "execution_count": 14,
   "metadata": {},
   "outputs": [],
   "source": [
    "for i in especiais:\n",
    "    for j in i[1]:\n",
    "        textomin = textomin.replace(j,i[0])"
   ]
  },
  {
   "cell_type": "code",
   "execution_count": 16,
   "metadata": {},
   "outputs": [],
   "source": [
    "textos = textomin.split('endofarticle')"
   ]
  },
  {
   "cell_type": "code",
   "execution_count": 17,
   "metadata": {},
   "outputs": [],
   "source": [
    "for i in range(len(textos)):\n",
    "    textos[i] = textos[i][20:]\n",
    "    #o objetivo é eliminar o primeiro '>'"
   ]
  },
  {
   "cell_type": "code",
   "execution_count": 18,
   "metadata": {},
   "outputs": [],
   "source": [
    "for i in range(len(textos)):\n",
    "    posicao = textos[i].find('>')\n",
    "    textos[i] = textos[i][posicao+1:]"
   ]
  },
  {
   "cell_type": "code",
   "execution_count": 19,
   "metadata": {},
   "outputs": [],
   "source": [
    "for i in range(len(organizado)):\n",
    "    add = textos[i].split(\" \")\n",
    "    organizado[i].append(add)"
   ]
  },
  {
   "cell_type": "code",
   "execution_count": 20,
   "metadata": {},
   "outputs": [],
   "source": [
    "safe = organizado"
   ]
  },
  {
   "cell_type": "code",
   "execution_count": 22,
   "metadata": {},
   "outputs": [],
   "source": [
    "def unique(lista):\n",
    "    exclusiva = []\n",
    "    for i in lista:\n",
    "        if i not in exclusiva:\n",
    "            exclusiva.append(i)\n",
    "    return exclusiva"
   ]
  },
  {
   "cell_type": "code",
   "execution_count": 23,
   "metadata": {},
   "outputs": [],
   "source": [
    "for i in range(len(organizado)):\n",
    "    organizado[i][2] = unique(organizado[i][2])"
   ]
  },
  {
   "cell_type": "code",
   "execution_count": 24,
   "metadata": {},
   "outputs": [],
   "source": [
    "for i in range(len(organizado)):\n",
    "    organizado[i][2].remove('')"
   ]
  },
  {
   "cell_type": "code",
   "execution_count": 26,
   "metadata": {},
   "outputs": [],
   "source": [
    "prontinho = open('arquivo_limpo_0001','w')"
   ]
  },
  {
   "cell_type": "code",
   "execution_count": 27,
   "metadata": {},
   "outputs": [],
   "source": [
    "prontinho.write(str(organizado))\n",
    "prontinho.close()"
   ]
  },
  {
   "cell_type": "code",
   "execution_count": 40,
   "metadata": {},
   "outputs": [],
   "source": [
    "maior = int(organizado[0][0])\n",
    "menor = int(organizado[0][0])\n",
    "for i in organizado:\n",
    "    if int(i[0])<menor:\n",
    "        menor = int(i[0])\n",
    "    if int(i[0])>maior:\n",
    "        maior = int(i[0])"
   ]
  },
  {
   "cell_type": "code",
   "execution_count": 41,
   "metadata": {},
   "outputs": [
    {
     "data": {
      "text/plain": [
       "9398837"
      ]
     },
     "execution_count": 41,
     "metadata": {},
     "output_type": "execute_result"
    }
   ],
   "source": [
    "maior"
   ]
  },
  {
   "cell_type": "code",
   "execution_count": 42,
   "metadata": {},
   "outputs": [
    {
     "data": {
      "text/plain": [
       "1117"
      ]
     },
     "execution_count": 42,
     "metadata": {},
     "output_type": "execute_result"
    }
   ],
   "source": [
    "menor"
   ]
  },
  {
   "cell_type": "code",
   "execution_count": 43,
   "metadata": {},
   "outputs": [
    {
     "data": {
      "text/plain": [
       "9397720"
      ]
     },
     "execution_count": 43,
     "metadata": {},
     "output_type": "execute_result"
    }
   ],
   "source": [
    "maior - menor"
   ]
  },
  {
   "cell_type": "code",
   "execution_count": 75,
   "metadata": {},
   "outputs": [],
   "source": [
    "organizada = []\n",
    "for i in range(len(organizado)):\n",
    "    organizada.append(str(i))\n",
    "    organizada.append(organizado[i][1])\n",
    "    conjunto = \"\"\n",
    "    for j in organizado[i][2]:\n",
    "        conjunto += j+\" \"\n",
    "    organizada.append(conjunto)"
   ]
  },
  {
   "cell_type": "code",
   "execution_count": 64,
   "metadata": {},
   "outputs": [
    {
     "data": {
      "text/plain": [
       "['214730',\n",
       " 'Henry Hallam',\n",
       " 'henry hallam july january was an english historian the only son of john canon windsor and dean bristol he educated at eton christ church oxford graduating in called to bar practised for some years on circuit but his tastes were literary when father s death inherited a small estate lincolnshire gave himself up wholly academic study had become connected with brilliant band authors politicians who led whig party connection which owed appointment well paid easy post commissioner stamps took no part politics however active supporter many popular movements particularly that ended abolition slave trade sincerely attached political principles whigs earliest work undertaken connexion great organ edinburgh review where scott dryden attracted attention first view state europe during middle ages produced followed nine later by constitutional history england appeared introduction literature th centuries these are three works fame rests they place not seriously challenged until century volume supplemental notes published facts dates represent nearly all career strongest personal interest life affliction befell him loss children one after another eldest arthur h tennyson memoriam testimony contemporaries man most promise died age twenty two seventeen second fitzmaurice cut off like brother very threshold what might have been premature high talents young men association them poem made family afflictions better known than any other incidents survived wife daughter sons remains prose verse sketch selection essays characters from fellow royal society trustee british museum enjoyed appropriate distinctions received gold medal founded george iv is described as series historical dissertations comprehensive survey chief circumstances can philosophical inquirer period consists long chapters each complete treatise itself france italy spain germany greek saracenic empires sketched rapid general terms subject five separate others deal institutional features medieval development feudal system ecclesiastical free last chapter sketches growth commerce manners book may be regarded early modern preparatory more detailed treatment special lines inquiry carried out subsequent although original intention continue scale it begun takes point dropped viz accession vii carries down iii stopped here characteristic reason impossible respect regret unwilling excite prejudices seemed run back through whole reign nevertheless accused bias quarterly contains article written southey full reproach says production decided partisan rakes ashes forgotten thousand times buried slanders means heaping obloquy supported established institutions country should contain so much time bears directly specific changes organization including judicial cool such sanctified names charles i cranmer laud provoked indignation forgot same impartial measure extended statesmen side if ever deviated perfect fairness tacit assumption theory constitution right previous those departed or wrong did unconsciously antedate clear incidental allusions favour democratic thought impending macaulay ultimately referred questions standard constitutionalism scrupulously conscientious collecting weighing materials this helped legal training text books continues branch opened extent supplementary end extinction ancient learning fall roman empire rise christianity preservation latin language services slow revival letters began show soon nadir human mind passed half mainly occupied classical adopts plan taking short decennial periods noticing remarkable compels resort classification subjects we theology speculative philosophy jurisprudence taste scientific miscellaneous subdivisions further course thus poetry drama polite form inconvenient result arrangement author scattered over according within category shakespeare grotius francis bacon thomas hobbes appear dozen different places individuality dissipated except has preserved occasional sacrifice defect esteemed increased sparing references character obliged content excluded biographical nor tells us reference rigidly account would make library arranged date their publication nature universities academies reformation noticed immediate results little spacious generalization suggest qualities displayed universally acknowledged conscientiousness accuracy judgment enormous reading least styiking powers mastery diverse forms intellectual activity science mathematics metaphysics law competent always fair profound critic bent own manifest pure speculation seems inspired stronger higher sense power parts display less worthy notice good both held control probably writer possessed juster relative importance things labour devoted investigation excuse dwelling unless important turns away contemptuously mere curiosities never tempted trivial erudition do find studies leads assign disproportionate generally description justified quality method temper philosopher fixed rather persons conception embraced movement beside issue battles fate kings into comparative insignificance trace pedigree princes reflects fill catalogue towns besieged provinces desolated describe even pageantry coronations festivals cannot recover genuine mankind hand there anything wise melancholy reflections infrequent writings arise naturally incidentally discussing object attainment truth matters fact sweeping theories broad characterizations particular seem attraction generalizations usually based individual distasteful objects use statistics because tendency regard mentally morally equal assumes tone scholar solicitous cultivated gentleman specialist montaigne french whom ashamed read necessary meet constantly reminding unlikely schoolboy far belong criticism moral censure certain extremes scepticism atheism religion democracy essay available http www com etexts html texts cahe txt ',\n",
       " '7986334',\n",
       " 'Sungai Besi LRT station',\n",
       " 'sungai besi lrt station is an in a town the federal territory of kuala lumpur malaysia this served by sri petaling line and was opened along with other stations its location see also ampang kelana jaya kl monorail rawang seremban sentul port klang external links rapid official site syarikat prasarana negara bhd ',\n",
       " '5826739',\n",
       " '1808 in poetry',\n",
       " 'events poetry published johann wolfgang von goethe faust part i sir walter scott marmion births february carl spitzweg may gerard de nerval june henrik wergeland deaths september john home melchiore cesarotti see also list of years in poets ',\n",
       " '2843783']"
      ]
     },
     "execution_count": 64,
     "metadata": {},
     "output_type": "execute_result"
    }
   ],
   "source": [
    "organizada[:10]"
   ]
  },
  {
   "cell_type": "code",
   "execution_count": 79,
   "metadata": {},
   "outputs": [],
   "source": [
    "limpe = open('limpe_0001','a')"
   ]
  },
  {
   "cell_type": "code",
   "execution_count": 80,
   "metadata": {},
   "outputs": [],
   "source": [
    "for i in organizada:\n",
    "    limpe.write(i)\n",
    "    limpe.write('\\n')"
   ]
  },
  {
   "cell_type": "code",
   "execution_count": 81,
   "metadata": {},
   "outputs": [],
   "source": [
    "limpe.close()"
   ]
  },
  {
   "cell_type": "code",
   "execution_count": 82,
   "metadata": {},
   "outputs": [
    {
     "data": {
      "text/plain": [
       "['2843783',\n",
       " '3 Flies Up',\n",
       " ['flies',\n",
       "  'up',\n",
       "  'is',\n",
       "  'a',\n",
       "  'simple',\n",
       "  'variant',\n",
       "  'of',\n",
       "  'american',\n",
       "  'football',\n",
       "  'that',\n",
       "  'popular',\n",
       "  'in',\n",
       "  'schoolyards',\n",
       "  'and',\n",
       "  'typically',\n",
       "  'involves',\n",
       "  'one',\n",
       "  'flier',\n",
       "  'who',\n",
       "  'throws',\n",
       "  'the',\n",
       "  'to',\n",
       "  'group',\n",
       "  'catchers',\n",
       "  'each',\n",
       "  'individually',\n",
       "  'attempting',\n",
       "  'best',\n",
       "  'other',\n",
       "  'catch',\n",
       "  'passes',\n",
       "  'have',\n",
       "  'not',\n",
       "  'hit',\n",
       "  'ground',\n",
       "  'out',\n",
       "  'air',\n",
       "  'for',\n",
       "  'points',\n",
       "  'once',\n",
       "  'single',\n",
       "  'catcher',\n",
       "  'catches',\n",
       "  'three',\n",
       "  'they',\n",
       "  'do',\n",
       "  'usually',\n",
       "  'need',\n",
       "  'be',\n",
       "  'consecutive',\n",
       "  'he',\n",
       "  'or',\n",
       "  'she',\n",
       "  'becomes',\n",
       "  'new',\n",
       "  'game',\n",
       "  'played',\n",
       "  'which',\n",
       "  'prior',\n",
       "  'joins',\n",
       "  'rest',\n",
       "  'this',\n",
       "  'can',\n",
       "  'go',\n",
       "  'on',\n",
       "  'long',\n",
       "  'time',\n",
       "  'making',\n",
       "  'perpetual',\n",
       "  'indefinitely',\n",
       "  'some',\n",
       "  'versions',\n",
       "  'players',\n",
       "  'make',\n",
       "  'it',\n",
       "  'interesting',\n",
       "  'by',\n",
       "  'playing',\n",
       "  'until',\n",
       "  'specific',\n",
       "  'moment',\n",
       "  'current',\n",
       "  'at',\n",
       "  'named',\n",
       "  'champion',\n",
       "  'variations',\n",
       "  'another',\n",
       "  'version',\n",
       "  'different',\n",
       "  'regions',\n",
       "  'schools',\n",
       "  'play',\n",
       "  'ways',\n",
       "  'called',\n",
       "  'consists',\n",
       "  'same',\n",
       "  'basic',\n",
       "  'principles',\n",
       "  'but',\n",
       "  'with',\n",
       "  'scoring',\n",
       "  'system',\n",
       "  'passer',\n",
       "  'randomly',\n",
       "  'calls',\n",
       "  'number',\n",
       "  'between',\n",
       "  'as',\n",
       "  'ball',\n",
       "  'cluster',\n",
       "  'if',\n",
       "  'successfully',\n",
       "  'received',\n",
       "  'designated',\n",
       "  'amount',\n",
       "  'awarded',\n",
       "  'winner',\n",
       "  'declared',\n",
       "  'score',\n",
       "  'reached',\n",
       "  'many',\n",
       "  'school',\n",
       "  'teachers',\n",
       "  'prefer',\n",
       "  'method',\n",
       "  'because',\n",
       "  'require',\n",
       "  'arithmetic',\n",
       "  'skills',\n",
       "  'practiced',\n",
       "  'through',\n",
       "  'physical',\n",
       "  'activity']]"
      ]
     },
     "execution_count": 82,
     "metadata": {},
     "output_type": "execute_result"
    }
   ],
   "source": [
    "organizado[3]"
   ]
  },
  {
   "cell_type": "code",
   "execution_count": null,
   "metadata": {},
   "outputs": [],
   "source": []
  }
 ],
 "metadata": {
  "kernelspec": {
   "display_name": "Python 3",
   "language": "python",
   "name": "python3"
  },
  "language_info": {
   "codemirror_mode": {
    "name": "ipython",
    "version": 3
   },
   "file_extension": ".py",
   "mimetype": "text/x-python",
   "name": "python",
   "nbconvert_exporter": "python",
   "pygments_lexer": "ipython3",
   "version": "3.7.3"
  }
 },
 "nbformat": 4,
 "nbformat_minor": 2
}
